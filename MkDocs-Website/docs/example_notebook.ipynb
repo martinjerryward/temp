{
 "cells": [
  {
   "cell_type": "markdown",
   "metadata": {},
   "source": [
    "# Simple Jupyter Notebook\n",
    "This is a basic Jupyter Notebook to test the `mkdocs-jupyter` plugin.\n",
    "\n",
    "## Introduction\n",
    "This notebook demonstrates:\n",
    "- How to use Markdown for documentation.\n",
    "- How to run Python code.\n",
    "- How to create a simple plot."
   ]
  },
  {
   "cell_type": "code",
   "execution_count": null,
   "metadata": {},
   "outputs": [],
   "source": [
    "# Simple Python calculation\n",
    "a = 5\n",
    "b = 10\n",
    "result = a + b\n",
    "\n",
    "print(f\"The sum of {a} and {b} is: {result}\")"
   ]
  },
  {
   "cell_type": "markdown",
   "metadata": {},
   "source": [
    "## Plotting Example\n",
    "Let's create a simple plot using Matplotlib to visualize a sine wave."
   ]
  },
  {
   "cell_type": "code",
   "execution_count": null,
   "metadata": {},
   "outputs": [],
   "source": [
    "import numpy as np\n",
    "import matplotlib.pyplot as plt\n",
    "\n",
    "# Generate data\n",
    "x = np.linspace(0, 2 * np.pi, 100)  # 100 points from 0 to 2π\n",
    "y = np.sin(x)\n",
    "\n",
    "# Create the plot\n",
    "plt.plot(x, y, label=\"sin(x)\", color=\"blue\")\n",
    "plt.title(\"Sine Wave\")\n",
    "plt.xlabel(\"x\")\n",
    "plt.ylabel(\"sin(x)\")\n",
    "plt.legend()\n",
    "plt.grid()\n",
    "plt.show()"
   ]
  },
  {
   "cell_type": "markdown",
   "metadata": {},
   "source": [
    "## Conclusion\n",
    "This notebook shows how to:\n",
    "- Use Markdown for documentation.\n",
    "- Run Python code.\n",
    "- Create a plot.\n",
    "\n",
    "You can now integrate this notebook into your MkDocs site using the `mkdocs-jupyter` plugin!"
   ]
  }
 ],
 "metadata": {
  "kernelspec": {
   "display_name": "Python 3",
   "language": "python",
   "name": "python3"
  },
  "language_info": {
   "name": "python",
   "version": "3.11.4"
  }
 },
 "nbformat": 4,
 "nbformat_minor": 2
}
